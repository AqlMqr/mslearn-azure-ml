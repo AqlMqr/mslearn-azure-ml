{
  "cells": [
    {
      "cell_type": "code",
      "source": [
        "import pandas as pd\r\n",
        "\r\n",
        "# read\r\n",
        "df = pd.read_csv(\"test-data/diabetes-test.csv\")\r\n",
        "\r\n",
        "# write\r\n",
        "df.to_parquet(\"test-data/diabetes-test.parquet\")\r\n",
        "\r\n",
        "df.head()\r\n"
      ],
      "outputs": [],
      "execution_count": 1,
      "metadata": {
        "gather": {
          "logged": 1676550609912
        }
      }
    },
    {
      "cell_type": "code",
      "source": [
        "import pandas as pd\r\n",
        "\r\n",
        "# read\r\n",
        "df = pd.read_csv(\"src/diabetes.csv\")\r\n",
        "\r\n",
        "# write\r\n",
        "df.to_parquet(\"src/diabetes.parquet\")\r\n",
        "\r\n",
        "df.head()"
      ],
      "outputs": [
        {
          "output_type": "execute_result",
          "execution_count": 13,
          "data": {
            "text/plain": "   PatientID  Pregnancies  PlasmaGlucose  DiastolicBloodPressure  \\\n0    1354778            0            171                      80   \n1    1147438            8             92                      93   \n2    1640031            7            115                      47   \n3    1883350            9            103                      78   \n4    1424119            1             85                      59   \n\n   TricepsThickness  SerumInsulin        BMI  DiabetesPedigree  Age  Diabetic  \n0                34            23  43.509726          1.213191   21         0  \n1                47            36  21.240576          0.158365   23         0  \n2                52            35  41.511523          0.079019   23         0  \n3                25           304  29.582192          1.282870   43         1  \n4                27            35  42.604536          0.549542   22         0  ",
            "text/html": "<div>\n<style scoped>\n    .dataframe tbody tr th:only-of-type {\n        vertical-align: middle;\n    }\n\n    .dataframe tbody tr th {\n        vertical-align: top;\n    }\n\n    .dataframe thead th {\n        text-align: right;\n    }\n</style>\n<table border=\"1\" class=\"dataframe\">\n  <thead>\n    <tr style=\"text-align: right;\">\n      <th></th>\n      <th>PatientID</th>\n      <th>Pregnancies</th>\n      <th>PlasmaGlucose</th>\n      <th>DiastolicBloodPressure</th>\n      <th>TricepsThickness</th>\n      <th>SerumInsulin</th>\n      <th>BMI</th>\n      <th>DiabetesPedigree</th>\n      <th>Age</th>\n      <th>Diabetic</th>\n    </tr>\n  </thead>\n  <tbody>\n    <tr>\n      <th>0</th>\n      <td>1354778</td>\n      <td>0</td>\n      <td>171</td>\n      <td>80</td>\n      <td>34</td>\n      <td>23</td>\n      <td>43.509726</td>\n      <td>1.213191</td>\n      <td>21</td>\n      <td>0</td>\n    </tr>\n    <tr>\n      <th>1</th>\n      <td>1147438</td>\n      <td>8</td>\n      <td>92</td>\n      <td>93</td>\n      <td>47</td>\n      <td>36</td>\n      <td>21.240576</td>\n      <td>0.158365</td>\n      <td>23</td>\n      <td>0</td>\n    </tr>\n    <tr>\n      <th>2</th>\n      <td>1640031</td>\n      <td>7</td>\n      <td>115</td>\n      <td>47</td>\n      <td>52</td>\n      <td>35</td>\n      <td>41.511523</td>\n      <td>0.079019</td>\n      <td>23</td>\n      <td>0</td>\n    </tr>\n    <tr>\n      <th>3</th>\n      <td>1883350</td>\n      <td>9</td>\n      <td>103</td>\n      <td>78</td>\n      <td>25</td>\n      <td>304</td>\n      <td>29.582192</td>\n      <td>1.282870</td>\n      <td>43</td>\n      <td>1</td>\n    </tr>\n    <tr>\n      <th>4</th>\n      <td>1424119</td>\n      <td>1</td>\n      <td>85</td>\n      <td>59</td>\n      <td>27</td>\n      <td>35</td>\n      <td>42.604536</td>\n      <td>0.549542</td>\n      <td>22</td>\n      <td>0</td>\n    </tr>\n  </tbody>\n</table>\n</div>"
          },
          "metadata": {}
        }
      ],
      "execution_count": 13,
      "metadata": {
        "jupyter": {
          "source_hidden": false,
          "outputs_hidden": false
        },
        "nteract": {
          "transient": {
            "deleting": false
          }
        },
        "gather": {
          "logged": 1676551417502
        }
      }
    },
    {
      "cell_type": "code",
      "source": [
        "import pandas as pd\r\n",
        "\r\n",
        "# read\r\n",
        "df = pd.read_csv(\"src/diabetes.csv\")\r\n",
        "df.dtypes"
      ],
      "outputs": [
        {
          "output_type": "execute_result",
          "execution_count": 66,
          "data": {
            "text/plain": "PatientID                   int64\nPregnancies                 int64\nPlasmaGlucose               int64\nDiastolicBloodPressure      int64\nTricepsThickness            int64\nSerumInsulin                int64\nBMI                       float64\nDiabetesPedigree          float64\nAge                         int64\nDiabetic                    int64\ndtype: object"
          },
          "metadata": {}
        }
      ],
      "execution_count": 66,
      "metadata": {
        "jupyter": {
          "source_hidden": false,
          "outputs_hidden": false
        },
        "nteract": {
          "transient": {
            "deleting": false
          }
        },
        "gather": {
          "logged": 1676558554980
        }
      }
    },
    {
      "cell_type": "code",
      "source": [
        "df = df.astype(\"double\")"
      ],
      "outputs": [],
      "execution_count": 67,
      "metadata": {
        "jupyter": {
          "source_hidden": false,
          "outputs_hidden": false
        },
        "nteract": {
          "transient": {
            "deleting": false
          }
        },
        "gather": {
          "logged": 1676558561982
        }
      }
    },
    {
      "cell_type": "code",
      "source": [
        "df.to_parquet(\"double.parquet\")"
      ],
      "outputs": [],
      "execution_count": 68,
      "metadata": {
        "jupyter": {
          "source_hidden": false,
          "outputs_hidden": false
        },
        "nteract": {
          "transient": {
            "deleting": false
          }
        },
        "gather": {
          "logged": 1676558563913
        }
      }
    },
    {
      "cell_type": "code",
      "source": [],
      "outputs": [],
      "execution_count": null,
      "metadata": {
        "jupyter": {
          "source_hidden": false,
          "outputs_hidden": false
        },
        "nteract": {
          "transient": {
            "deleting": false
          }
        }
      }
    },
    {
      "cell_type": "code",
      "source": [
        "# Import needed modules\r\n",
        "import pandas as pd\r\n",
        "import pyarrow as pa\r\n",
        "\r\n",
        "# Create Dataframe\r\n",
        "df = pd.read_csv(\"src/diabetes.csv\")\r\n",
        "\r\n",
        "# Create parquet file \r\n",
        "df = df.astype('double')\r\n"
      ],
      "outputs": [],
      "execution_count": 75,
      "metadata": {
        "jupyter": {
          "source_hidden": false,
          "outputs_hidden": false
        },
        "nteract": {
          "transient": {
            "deleting": false
          }
        },
        "gather": {
          "logged": 1676560508023
        }
      }
    },
    {
      "cell_type": "code",
      "source": [
        "pq.write_table(df, \"double1.parquet\", version=\"1.0\")"
      ],
      "outputs": [
        {
          "output_type": "error",
          "ename": "AttributeError",
          "evalue": "'NoneType' object has no attribute 'write_table'",
          "traceback": [
            "\u001b[0;31m---------------------------------------------------------------------------\u001b[0m",
            "\u001b[0;31mAttributeError\u001b[0m                            Traceback (most recent call last)",
            "Input \u001b[0;32mIn [76]\u001b[0m, in \u001b[0;36m<cell line: 1>\u001b[0;34m()\u001b[0m\n\u001b[0;32m----> 1\u001b[0m \u001b[43mpq\u001b[49m\u001b[38;5;241;43m.\u001b[39;49m\u001b[43mwrite_table\u001b[49m(df, \u001b[38;5;124m\"\u001b[39m\u001b[38;5;124mdouble1.parquet\u001b[39m\u001b[38;5;124m\"\u001b[39m, version\u001b[38;5;241m=\u001b[39m\u001b[38;5;124m\"\u001b[39m\u001b[38;5;124m1.0\u001b[39m\u001b[38;5;124m\"\u001b[39m)\n",
            "\u001b[0;31mAttributeError\u001b[0m: 'NoneType' object has no attribute 'write_table'"
          ]
        }
      ],
      "execution_count": 76,
      "metadata": {
        "jupyter": {
          "source_hidden": false,
          "outputs_hidden": false
        },
        "nteract": {
          "transient": {
            "deleting": false
          }
        },
        "gather": {
          "logged": 1676938200747
        }
      }
    },
    {
      "cell_type": "code",
      "source": [
        "import pyarrow.parquet as pq\r\n",
        "\r\n",
        "table = pq.read_table(\"parquet_file\")\r\n",
        "table.schema"
      ],
      "outputs": [
        {
          "output_type": "execute_result",
          "execution_count": 70,
          "data": {
            "text/plain": "PatientID: double\nPregnancies: double\nPlasmaGlucose: double\nDiastolicBloodPressure: double\nTricepsThickness: double\nSerumInsulin: double\nBMI: double\nDiabetesPedigree: double\nAge: double\nDiabetic: double\n-- schema metadata --\npandas: '{\"index_columns\": [], \"column_indexes\": [], \"columns\": [{\"name\":' + 1311"
          },
          "metadata": {}
        }
      ],
      "execution_count": 70,
      "metadata": {
        "jupyter": {
          "source_hidden": false,
          "outputs_hidden": false
        },
        "nteract": {
          "transient": {
            "deleting": false
          }
        },
        "gather": {
          "logged": 1676559485149
        }
      }
    },
    {
      "cell_type": "code",
      "source": [
        "import pyarrow.parquet as pq\r\n",
        "\r\n",
        "table = pq.read_table(\"double.parquet\")\r\n",
        "table.schema"
      ],
      "outputs": [
        {
          "output_type": "execute_result",
          "execution_count": 56,
          "data": {
            "text/plain": "PatientID: int64\nPregnancies: int64\nPlasmaGlucose: int64\nDiastolicBloodPressure: int64\nTricepsThickness: int64\nSerumInsulin: int64\nBMI: double\nDiabetesPedigree: double\nAge: int64\nDiabetic: int64\n-- schema metadata --\npandas: '{\"index_columns\": [{\"kind\": \"range\", \"name\": null, \"start\": 0, \"' + 1467"
          },
          "metadata": {}
        }
      ],
      "execution_count": 56,
      "metadata": {
        "jupyter": {
          "source_hidden": false,
          "outputs_hidden": false
        },
        "nteract": {
          "transient": {
            "deleting": false
          }
        },
        "gather": {
          "logged": 1676558158161
        }
      }
    },
    {
      "cell_type": "code",
      "source": [
        "version_string = \"1\""
      ],
      "outputs": [],
      "execution_count": 18,
      "metadata": {
        "jupyter": {
          "source_hidden": false,
          "outputs_hidden": false
        },
        "nteract": {
          "transient": {
            "deleting": false
          }
        },
        "gather": {
          "logged": 1676551520746
        }
      }
    },
    {
      "cell_type": "code",
      "source": [
        "compute_name = \"aml-cluster\""
      ],
      "outputs": [],
      "execution_count": 19,
      "metadata": {
        "jupyter": {
          "source_hidden": false,
          "outputs_hidden": false
        },
        "nteract": {
          "transient": {
            "deleting": false
          }
        },
        "gather": {
          "logged": 1676551527162
        }
      }
    },
    {
      "cell_type": "code",
      "source": [
        "rai_diabetes_decision_making_example_version_string = \"1\""
      ],
      "outputs": [],
      "execution_count": 20,
      "metadata": {
        "jupyter": {
          "source_hidden": false,
          "outputs_hidden": false
        },
        "nteract": {
          "transient": {
            "deleting": false
          }
        },
        "gather": {
          "logged": 1676551532790
        }
      }
    },
    {
      "cell_type": "code",
      "source": [
        "# enter details of your AML workspace\r\n",
        "subscription_id = \"ae21abab-664c-4bb6-a9df-e9f822899ddd\"\r\n",
        "resource_group = \"rg-dp100-labs\"\r\n",
        "workspace = \"mlw-dp100-labs\""
      ],
      "outputs": [],
      "execution_count": 4,
      "metadata": {
        "jupyter": {
          "source_hidden": false,
          "outputs_hidden": false
        },
        "nteract": {
          "transient": {
            "deleting": false
          }
        },
        "gather": {
          "logged": 1676550769573
        }
      }
    },
    {
      "cell_type": "code",
      "source": [
        "from azure.ai.ml import MLClient\r\n",
        "from azure.identity import DefaultAzureCredential\r\n",
        "\r\n",
        "# get a handle to the workspace\r\n",
        "credential = DefaultAzureCredential()\r\n",
        "ml_client = MLClient(\r\n",
        "    credential, subscription_id, resource_group, workspace\r\n",
        ")"
      ],
      "outputs": [],
      "execution_count": 6,
      "metadata": {
        "jupyter": {
          "source_hidden": false,
          "outputs_hidden": false
        },
        "nteract": {
          "transient": {
            "deleting": false
          }
        },
        "gather": {
          "logged": 1676550980435
        }
      }
    },
    {
      "cell_type": "code",
      "source": [
        "# Get handle to azureml registry for the RAI built in components\r\n",
        "registry_name = \"azureml\"\r\n",
        "ml_client_registry = MLClient(\r\n",
        "    credential=credential,\r\n",
        "    subscription_id=subscription_id,\r\n",
        "    resource_group_name=resource_group,\r\n",
        "    registry_name=registry_name,\r\n",
        ")\r\n",
        "print(ml_client_registry)"
      ],
      "outputs": [
        {
          "output_type": "stream",
          "name": "stdout",
          "text": "MLClient(credential=<azure.identity._credentials.default.DefaultAzureCredential object at 0x7f8d1a35bd00>,\n         subscription_id=6c6683e9-e5fe-4038-8519-ce6ebec2ba15,\n         resource_group_name=registry-builtin-prod-eastus-01,\n         workspace_name=None)\n"
        }
      ],
      "execution_count": 7,
      "metadata": {
        "jupyter": {
          "source_hidden": false,
          "outputs_hidden": false
        },
        "nteract": {
          "transient": {
            "deleting": false
          }
        },
        "gather": {
          "logged": 1676550985143
        }
      }
    },
    {
      "cell_type": "code",
      "source": [
        "train_data_path = \"src/\""
      ],
      "outputs": [],
      "execution_count": 71,
      "metadata": {
        "jupyter": {
          "source_hidden": false,
          "outputs_hidden": false
        },
        "nteract": {
          "transient": {
            "deleting": false
          }
        },
        "gather": {
          "logged": 1676559673449
        }
      }
    },
    {
      "cell_type": "code",
      "source": [
        "test_data_path = \"test-data/\""
      ],
      "outputs": [],
      "execution_count": 8,
      "metadata": {
        "jupyter": {
          "source_hidden": false,
          "outputs_hidden": false
        },
        "nteract": {
          "transient": {
            "deleting": false
          }
        },
        "gather": {
          "logged": 1676551038314
        }
      }
    },
    {
      "cell_type": "code",
      "source": [
        "import os\r\n",
        "import pandas as pd\r\n",
        "import mltable\r\n",
        "\r\n",
        "tbl = mltable.load(train_data_path)\r\n",
        "train_df: pd.DataFrame = tbl.to_pandas_dataframe()\r\n",
        "\r\n",
        "# # test dataset should have less than 5000 rows\r\n",
        "# test_df = mltable.load(test_data_path).to_pandas_dataframe()\r\n",
        "# assert len(test_df.index) <= 5000\r\n",
        "\r\n",
        "display(train_df)"
      ],
      "outputs": [
        {
          "output_type": "display_data",
          "data": {
            "text/plain": "      PatientID  Pregnancies  PlasmaGlucose  DiastolicBloodPressure  \\\n0     1354778.0          0.0          171.0                    80.0   \n1     1147438.0          8.0           92.0                    93.0   \n2     1640031.0          7.0          115.0                    47.0   \n3     1883350.0          9.0          103.0                    78.0   \n4     1424119.0          1.0           85.0                    59.0   \n...         ...          ...            ...                     ...   \n9995  1469198.0          6.0           95.0                    85.0   \n9996  1432736.0          0.0           55.0                    51.0   \n9997  1410962.0          5.0           99.0                    59.0   \n9998  1958653.0          0.0          145.0                    67.0   \n9999  1332938.0         10.0          100.0                    54.0   \n\n      TricepsThickness  SerumInsulin        BMI  DiabetesPedigree   Age  \\\n0                 34.0          23.0  43.509726          1.213191  21.0   \n1                 47.0          36.0  21.240576          0.158365  23.0   \n2                 52.0          35.0  41.511523          0.079019  23.0   \n3                 25.0         304.0  29.582192          1.282870  43.0   \n4                 27.0          35.0  42.604536          0.549542  22.0   \n...                ...           ...        ...               ...   ...   \n9995              37.0         267.0  18.497542          0.660240  31.0   \n9996               7.0          50.0  21.865341          0.086589  34.0   \n9997              47.0          67.0  30.774018          2.301594  43.0   \n9998              30.0          21.0  18.811861          0.789572  26.0   \n9999              34.0          27.0  38.840943          0.175465  23.0   \n\n      Diabetic  \n0          0.0  \n1          0.0  \n2          0.0  \n3          1.0  \n4          0.0  \n...        ...  \n9995       0.0  \n9996       0.0  \n9997       1.0  \n9998       0.0  \n9999       0.0  \n\n[10000 rows x 10 columns]",
            "text/html": "<div>\n<style scoped>\n    .dataframe tbody tr th:only-of-type {\n        vertical-align: middle;\n    }\n\n    .dataframe tbody tr th {\n        vertical-align: top;\n    }\n\n    .dataframe thead th {\n        text-align: right;\n    }\n</style>\n<table border=\"1\" class=\"dataframe\">\n  <thead>\n    <tr style=\"text-align: right;\">\n      <th></th>\n      <th>PatientID</th>\n      <th>Pregnancies</th>\n      <th>PlasmaGlucose</th>\n      <th>DiastolicBloodPressure</th>\n      <th>TricepsThickness</th>\n      <th>SerumInsulin</th>\n      <th>BMI</th>\n      <th>DiabetesPedigree</th>\n      <th>Age</th>\n      <th>Diabetic</th>\n    </tr>\n  </thead>\n  <tbody>\n    <tr>\n      <th>0</th>\n      <td>1354778.0</td>\n      <td>0.0</td>\n      <td>171.0</td>\n      <td>80.0</td>\n      <td>34.0</td>\n      <td>23.0</td>\n      <td>43.509726</td>\n      <td>1.213191</td>\n      <td>21.0</td>\n      <td>0.0</td>\n    </tr>\n    <tr>\n      <th>1</th>\n      <td>1147438.0</td>\n      <td>8.0</td>\n      <td>92.0</td>\n      <td>93.0</td>\n      <td>47.0</td>\n      <td>36.0</td>\n      <td>21.240576</td>\n      <td>0.158365</td>\n      <td>23.0</td>\n      <td>0.0</td>\n    </tr>\n    <tr>\n      <th>2</th>\n      <td>1640031.0</td>\n      <td>7.0</td>\n      <td>115.0</td>\n      <td>47.0</td>\n      <td>52.0</td>\n      <td>35.0</td>\n      <td>41.511523</td>\n      <td>0.079019</td>\n      <td>23.0</td>\n      <td>0.0</td>\n    </tr>\n    <tr>\n      <th>3</th>\n      <td>1883350.0</td>\n      <td>9.0</td>\n      <td>103.0</td>\n      <td>78.0</td>\n      <td>25.0</td>\n      <td>304.0</td>\n      <td>29.582192</td>\n      <td>1.282870</td>\n      <td>43.0</td>\n      <td>1.0</td>\n    </tr>\n    <tr>\n      <th>4</th>\n      <td>1424119.0</td>\n      <td>1.0</td>\n      <td>85.0</td>\n      <td>59.0</td>\n      <td>27.0</td>\n      <td>35.0</td>\n      <td>42.604536</td>\n      <td>0.549542</td>\n      <td>22.0</td>\n      <td>0.0</td>\n    </tr>\n    <tr>\n      <th>...</th>\n      <td>...</td>\n      <td>...</td>\n      <td>...</td>\n      <td>...</td>\n      <td>...</td>\n      <td>...</td>\n      <td>...</td>\n      <td>...</td>\n      <td>...</td>\n      <td>...</td>\n    </tr>\n    <tr>\n      <th>9995</th>\n      <td>1469198.0</td>\n      <td>6.0</td>\n      <td>95.0</td>\n      <td>85.0</td>\n      <td>37.0</td>\n      <td>267.0</td>\n      <td>18.497542</td>\n      <td>0.660240</td>\n      <td>31.0</td>\n      <td>0.0</td>\n    </tr>\n    <tr>\n      <th>9996</th>\n      <td>1432736.0</td>\n      <td>0.0</td>\n      <td>55.0</td>\n      <td>51.0</td>\n      <td>7.0</td>\n      <td>50.0</td>\n      <td>21.865341</td>\n      <td>0.086589</td>\n      <td>34.0</td>\n      <td>0.0</td>\n    </tr>\n    <tr>\n      <th>9997</th>\n      <td>1410962.0</td>\n      <td>5.0</td>\n      <td>99.0</td>\n      <td>59.0</td>\n      <td>47.0</td>\n      <td>67.0</td>\n      <td>30.774018</td>\n      <td>2.301594</td>\n      <td>43.0</td>\n      <td>1.0</td>\n    </tr>\n    <tr>\n      <th>9998</th>\n      <td>1958653.0</td>\n      <td>0.0</td>\n      <td>145.0</td>\n      <td>67.0</td>\n      <td>30.0</td>\n      <td>21.0</td>\n      <td>18.811861</td>\n      <td>0.789572</td>\n      <td>26.0</td>\n      <td>0.0</td>\n    </tr>\n    <tr>\n      <th>9999</th>\n      <td>1332938.0</td>\n      <td>10.0</td>\n      <td>100.0</td>\n      <td>54.0</td>\n      <td>34.0</td>\n      <td>27.0</td>\n      <td>38.840943</td>\n      <td>0.175465</td>\n      <td>23.0</td>\n      <td>0.0</td>\n    </tr>\n  </tbody>\n</table>\n<p>10000 rows × 10 columns</p>\n</div>"
          },
          "metadata": {}
        }
      ],
      "execution_count": 72,
      "metadata": {
        "jupyter": {
          "source_hidden": false,
          "outputs_hidden": false
        },
        "nteract": {
          "transient": {
            "deleting": false
          }
        },
        "gather": {
          "logged": 1676559680975
        }
      }
    },
    {
      "cell_type": "code",
      "source": [
        "import pandas as pd\r\n",
        "\r\n",
        "# read\r\n",
        "df = pd.read_csv(\"src/diabetes.csv\")\r\n",
        "\r\n",
        "# write\r\n",
        "df.to_parquet(\"src/diabetes.parquet\", index=False)"
      ],
      "outputs": [],
      "execution_count": 43,
      "metadata": {
        "jupyter": {
          "source_hidden": false,
          "outputs_hidden": false
        },
        "nteract": {
          "transient": {
            "deleting": false
          }
        },
        "gather": {
          "logged": 1676557393262
        }
      }
    },
    {
      "cell_type": "code",
      "source": [
        "import pyarrow.parquet as pq\r\n",
        "\r\n",
        "table = pq.read_table(\"src/diabetes.parquet\")\r\n",
        "table.schema"
      ],
      "outputs": [
        {
          "output_type": "execute_result",
          "execution_count": 44,
          "data": {
            "text/plain": "PatientID: int64\nPregnancies: int64\nPlasmaGlucose: int64\nDiastolicBloodPressure: int64\nTricepsThickness: int64\nSerumInsulin: int64\nBMI: double\nDiabetesPedigree: double\nAge: int64\nDiabetic: int64\n-- schema metadata --\npandas: '{\"index_columns\": [], \"column_indexes\": [], \"columns\": [{\"name\":' + 1279"
          },
          "metadata": {}
        }
      ],
      "execution_count": 44,
      "metadata": {
        "jupyter": {
          "source_hidden": false,
          "outputs_hidden": false
        },
        "nteract": {
          "transient": {
            "deleting": false
          }
        },
        "gather": {
          "logged": 1676557398014
        }
      }
    },
    {
      "cell_type": "code",
      "source": [
        "import pandas as pd\r\n",
        "import pyarrow.parquet as pq\r\n",
        "\r\n",
        "# read\r\n",
        "# df = pd.read_csv(\"src/diabetes.csv\")\r\n",
        "\r\n",
        "# write\r\n",
        "pq.write_table(table, 'double1.parquet', version=\"1.0\")\r\n",
        "\r\n"
      ],
      "outputs": [],
      "execution_count": 78,
      "metadata": {
        "jupyter": {
          "source_hidden": false,
          "outputs_hidden": false
        },
        "nteract": {
          "transient": {
            "deleting": false
          }
        },
        "gather": {
          "logged": 1676560664557
        }
      }
    },
    {
      "cell_type": "code",
      "source": [
        "import pyarrow.parquet as pq\r\n",
        "\r\n",
        "table = pq.read_table(\"example.parquet\")\r\n",
        "table.schema"
      ],
      "outputs": [
        {
          "output_type": "execute_result",
          "execution_count": 77,
          "data": {
            "text/plain": "PatientID: int64\nPregnancies: int64\nPlasmaGlucose: int64\nDiastolicBloodPressure: int64\nTricepsThickness: int64\nSerumInsulin: int64\nBMI: double\nDiabetesPedigree: double\nAge: int64\nDiabetic: int64\n-- schema metadata --\npandas: '{\"index_columns\": [{\"kind\": \"range\", \"name\": null, \"start\": 0, \"' + 1467"
          },
          "metadata": {}
        }
      ],
      "execution_count": 77,
      "metadata": {
        "jupyter": {
          "source_hidden": false,
          "outputs_hidden": false
        },
        "nteract": {
          "transient": {
            "deleting": false
          }
        },
        "gather": {
          "logged": 1676560641386
        }
      }
    },
    {
      "cell_type": "code",
      "source": [
        "display(test_df)"
      ],
      "outputs": [
        {
          "output_type": "display_data",
          "data": {
            "text/plain": "      PatientID  Pregnancies  PlasmaGlucose  DiastolicBloodPressure  \\\n0       1142956            1             78                      41   \n1       1823377            0            116                      92   \n2       1916381            8            171                      42   \n3       1247480            3            108                      63   \n4       1516947            8            153                      99   \n...         ...          ...            ...                     ...   \n4995    1490300           10             65                      60   \n4996    1744410            2             73                      66   \n4997    1742742            0             93                      89   \n4998    1099353            0            132                      98   \n4999    1386396            3            114                      65   \n\n      TricepsThickness  SerumInsulin        BMI  DiabetesPedigree  Age  \\\n0                   33           311  50.796392          0.420804   24   \n1                   16           184  18.603630          0.131156   22   \n2                   29           160  35.482247          0.082671   22   \n3                   45           297  49.375169          0.100979   46   \n4                   15            41  35.062139          0.116191   22   \n...                ...           ...        ...               ...  ...   \n4995                46           177  33.512468          0.148327   41   \n4996                27           168  30.132636          0.862252   38   \n4997                43            57  18.690683          0.427049   24   \n4998                18           161  19.791645          0.302257   23   \n4999                47           512  36.215437          0.147363   34   \n\n      Diabetic  \n0            0  \n1            0  \n2            1  \n3            1  \n4            1  \n...        ...  \n4995         1  \n4996         1  \n4997         0  \n4998         0  \n4999         1  \n\n[5000 rows x 10 columns]",
            "text/html": "<div>\n<style scoped>\n    .dataframe tbody tr th:only-of-type {\n        vertical-align: middle;\n    }\n\n    .dataframe tbody tr th {\n        vertical-align: top;\n    }\n\n    .dataframe thead th {\n        text-align: right;\n    }\n</style>\n<table border=\"1\" class=\"dataframe\">\n  <thead>\n    <tr style=\"text-align: right;\">\n      <th></th>\n      <th>PatientID</th>\n      <th>Pregnancies</th>\n      <th>PlasmaGlucose</th>\n      <th>DiastolicBloodPressure</th>\n      <th>TricepsThickness</th>\n      <th>SerumInsulin</th>\n      <th>BMI</th>\n      <th>DiabetesPedigree</th>\n      <th>Age</th>\n      <th>Diabetic</th>\n    </tr>\n  </thead>\n  <tbody>\n    <tr>\n      <th>0</th>\n      <td>1142956</td>\n      <td>1</td>\n      <td>78</td>\n      <td>41</td>\n      <td>33</td>\n      <td>311</td>\n      <td>50.796392</td>\n      <td>0.420804</td>\n      <td>24</td>\n      <td>0</td>\n    </tr>\n    <tr>\n      <th>1</th>\n      <td>1823377</td>\n      <td>0</td>\n      <td>116</td>\n      <td>92</td>\n      <td>16</td>\n      <td>184</td>\n      <td>18.603630</td>\n      <td>0.131156</td>\n      <td>22</td>\n      <td>0</td>\n    </tr>\n    <tr>\n      <th>2</th>\n      <td>1916381</td>\n      <td>8</td>\n      <td>171</td>\n      <td>42</td>\n      <td>29</td>\n      <td>160</td>\n      <td>35.482247</td>\n      <td>0.082671</td>\n      <td>22</td>\n      <td>1</td>\n    </tr>\n    <tr>\n      <th>3</th>\n      <td>1247480</td>\n      <td>3</td>\n      <td>108</td>\n      <td>63</td>\n      <td>45</td>\n      <td>297</td>\n      <td>49.375169</td>\n      <td>0.100979</td>\n      <td>46</td>\n      <td>1</td>\n    </tr>\n    <tr>\n      <th>4</th>\n      <td>1516947</td>\n      <td>8</td>\n      <td>153</td>\n      <td>99</td>\n      <td>15</td>\n      <td>41</td>\n      <td>35.062139</td>\n      <td>0.116191</td>\n      <td>22</td>\n      <td>1</td>\n    </tr>\n    <tr>\n      <th>...</th>\n      <td>...</td>\n      <td>...</td>\n      <td>...</td>\n      <td>...</td>\n      <td>...</td>\n      <td>...</td>\n      <td>...</td>\n      <td>...</td>\n      <td>...</td>\n      <td>...</td>\n    </tr>\n    <tr>\n      <th>4995</th>\n      <td>1490300</td>\n      <td>10</td>\n      <td>65</td>\n      <td>60</td>\n      <td>46</td>\n      <td>177</td>\n      <td>33.512468</td>\n      <td>0.148327</td>\n      <td>41</td>\n      <td>1</td>\n    </tr>\n    <tr>\n      <th>4996</th>\n      <td>1744410</td>\n      <td>2</td>\n      <td>73</td>\n      <td>66</td>\n      <td>27</td>\n      <td>168</td>\n      <td>30.132636</td>\n      <td>0.862252</td>\n      <td>38</td>\n      <td>1</td>\n    </tr>\n    <tr>\n      <th>4997</th>\n      <td>1742742</td>\n      <td>0</td>\n      <td>93</td>\n      <td>89</td>\n      <td>43</td>\n      <td>57</td>\n      <td>18.690683</td>\n      <td>0.427049</td>\n      <td>24</td>\n      <td>0</td>\n    </tr>\n    <tr>\n      <th>4998</th>\n      <td>1099353</td>\n      <td>0</td>\n      <td>132</td>\n      <td>98</td>\n      <td>18</td>\n      <td>161</td>\n      <td>19.791645</td>\n      <td>0.302257</td>\n      <td>23</td>\n      <td>0</td>\n    </tr>\n    <tr>\n      <th>4999</th>\n      <td>1386396</td>\n      <td>3</td>\n      <td>114</td>\n      <td>65</td>\n      <td>47</td>\n      <td>512</td>\n      <td>36.215437</td>\n      <td>0.147363</td>\n      <td>34</td>\n      <td>1</td>\n    </tr>\n  </tbody>\n</table>\n<p>5000 rows × 10 columns</p>\n</div>"
          },
          "metadata": {}
        }
      ],
      "execution_count": 38,
      "metadata": {
        "jupyter": {
          "source_hidden": false,
          "outputs_hidden": false
        },
        "nteract": {
          "transient": {
            "deleting": false
          }
        },
        "gather": {
          "logged": 1676552298687
        }
      }
    },
    {
      "cell_type": "code",
      "source": [
        "assert len(test_df.index) <= 5000"
      ],
      "outputs": [],
      "execution_count": 11,
      "metadata": {
        "jupyter": {
          "source_hidden": false,
          "outputs_hidden": false
        },
        "nteract": {
          "transient": {
            "deleting": false
          }
        },
        "gather": {
          "logged": 1676551170808
        }
      }
    },
    {
      "cell_type": "code",
      "source": [
        "from azure.ai.ml.entities import Data\r\n",
        "from azure.ai.ml.constants import AssetTypes\r\n",
        "\r\n",
        "input_train_data = \"diabetes_decision_train_mltable\"\r\n",
        "input_test_data = \"diabetes_decision_test_mltable\"\r\n",
        "\r\n",
        "try:\r\n",
        "    # Try getting data already registered in workspace\r\n",
        "    train_data = ml_client.data.get(\r\n",
        "        name=input_train_data,\r\n",
        "        version=rai_diabetes_decision_making_example_version_string,\r\n",
        "    )\r\n",
        "    test_data = ml_client.data.get(\r\n",
        "        name=input_test_data,\r\n",
        "        version=rai_diabetes_decision_making_example_version_string,\r\n",
        "    )\r\n",
        "except Exception as e:\r\n",
        "    train_data = Data(\r\n",
        "        path=train_data_path,\r\n",
        "        type=AssetTypes.MLTABLE,\r\n",
        "        description=\"RAI diabetes decision example training data\",\r\n",
        "        name=input_train_data,\r\n",
        "        version=rai_diabetes_decision_making_example_version_string,\r\n",
        "    )\r\n",
        "    ml_client.data.create_or_update(train_data)\r\n",
        "\r\n",
        "    test_data = Data(\r\n",
        "        path=test_data_path,\r\n",
        "        type=AssetTypes.MLTABLE,\r\n",
        "        description=\"RAI diabetes decision example test data\",\r\n",
        "        name=input_test_data,\r\n",
        "        version=rai_diabetes_decision_making_example_version_string,\r\n",
        "    )\r\n",
        "    ml_client.data.create_or_update(test_data)"
      ],
      "outputs": [
        {
          "output_type": "stream",
          "name": "stderr",
          "text": "\u001b[32mUploading src (0.85 MBs): 100%|██████████| 846098/846098 [00:00<00:00, 32901837.81it/s]\n\u001b[39m\n\n\u001b[32mUploading test-data (0.43 MBs): 100%|██████████| 431989/431989 [00:00<00:00, 6652029.84it/s]\n\u001b[39m\n\n"
        }
      ],
      "execution_count": 21,
      "metadata": {
        "jupyter": {
          "source_hidden": false,
          "outputs_hidden": false
        },
        "nteract": {
          "transient": {
            "deleting": false
          }
        },
        "gather": {
          "logged": 1676551539585
        }
      }
    },
    {
      "cell_type": "code",
      "source": [
        "from azure.ai.ml.entities import Model\r\n",
        "from azure.ai.ml.constants import AssetTypes\r\n",
        "\r\n",
        "file_model = Model(\r\n",
        "    path=\"run-model-example_\",\r\n",
        "    type=AssetTypes.MLFLOW_MODEL,\r\n",
        "    name=\"local-mlflow-example\",\r\n",
        "    description=\"Model created from local file.\",\r\n",
        ")\r\n",
        "model = ml_client.models.create_or_update(file_model)"
      ],
      "outputs": [],
      "execution_count": 23,
      "metadata": {
        "jupyter": {
          "source_hidden": false,
          "outputs_hidden": false
        },
        "nteract": {
          "transient": {
            "deleting": false
          }
        },
        "gather": {
          "logged": 1676551841425
        }
      }
    },
    {
      "cell_type": "code",
      "source": [
        "model_name = model.name"
      ],
      "outputs": [],
      "execution_count": 26,
      "metadata": {
        "jupyter": {
          "source_hidden": false,
          "outputs_hidden": false
        },
        "nteract": {
          "transient": {
            "deleting": false
          }
        },
        "gather": {
          "logged": 1676551865504
        }
      }
    },
    {
      "cell_type": "code",
      "source": [
        "expected_model_id = model.id"
      ],
      "outputs": [],
      "execution_count": 29,
      "metadata": {
        "jupyter": {
          "source_hidden": false,
          "outputs_hidden": false
        },
        "nteract": {
          "transient": {
            "deleting": false
          }
        },
        "gather": {
          "logged": 1676551889810
        }
      }
    },
    {
      "cell_type": "code",
      "source": [
        "expected_model_id = f\"{model_name}:1\"\r\n",
        "azureml_model_id = f\"azureml:{expected_model_id}\""
      ],
      "outputs": [],
      "execution_count": 30,
      "metadata": {
        "jupyter": {
          "source_hidden": false,
          "outputs_hidden": false
        },
        "nteract": {
          "transient": {
            "deleting": false
          }
        },
        "gather": {
          "logged": 1676551892425
        }
      }
    },
    {
      "cell_type": "code",
      "source": [
        "label = \"latest\"\r\n",
        "\r\n",
        "rai_constructor_component = ml_client_registry.components.get(\r\n",
        "    name=\"microsoft_azureml_rai_tabular_insight_constructor\", label=label\r\n",
        ")\r\n",
        "\r\n",
        "# We get latest version and use the same version for all components\r\n",
        "version = rai_constructor_component.version\r\n",
        "print(\"The current version of RAI built-in components is: \" + version)\r\n",
        "\r\n",
        "rai_causal_component = ml_client_registry.components.get(\r\n",
        "    name=\"microsoft_azureml_rai_tabular_causal\", version=version\r\n",
        ")\r\n",
        "\r\n",
        "rai_counterfactual_component = ml_client_registry.components.get(\r\n",
        "    name=\"microsoft_azureml_rai_tabular_counterfactual\", version=version\r\n",
        ")\r\n",
        "\r\n",
        "rai_gather_component = ml_client_registry.components.get(\r\n",
        "    name=\"microsoft_azureml_rai_tabular_insight_gather\", version=version\r\n",
        ")\r\n",
        "\r\n",
        "rai_scorecard_component = ml_client_registry.components.get(\r\n",
        "    name=\"microsoft_azureml_rai_tabular_score_card\", version=version\r\n",
        ")"
      ],
      "outputs": [
        {
          "output_type": "stream",
          "name": "stdout",
          "text": "The current version of RAI built-in components is: 0.5.0\n"
        }
      ],
      "execution_count": 31,
      "metadata": {
        "jupyter": {
          "source_hidden": false,
          "outputs_hidden": false
        },
        "nteract": {
          "transient": {
            "deleting": false
          }
        },
        "gather": {
          "logged": 1676551910543
        }
      }
    },
    {
      "cell_type": "code",
      "source": [
        "import json\r\n",
        "\r\n",
        "score_card_config_dict = {\r\n",
        "    \"Model\": {\r\n",
        "        \"ModelName\": \"Diabetes disease progression measure\",\r\n",
        "        \"ModelType\": \"Regression\",\r\n",
        "        \"ModelSummary\": \"This model provides a quantitative measure of disease progression one year after baseline\",\r\n",
        "    },\r\n",
        "    \"Metrics\": {\"mean_absolute_error\": {\"threshold\": \"<=5\"}, \"mean_squared_error\": {}},\r\n",
        "}\r\n",
        "\r\n",
        "score_card_config_filename = \"rai_diabetes_decision_score_card_config.json\"\r\n",
        "\r\n",
        "with open(score_card_config_filename, \"w\") as f:\r\n",
        "    json.dump(score_card_config_dict, f)"
      ],
      "outputs": [],
      "execution_count": 32,
      "metadata": {
        "jupyter": {
          "source_hidden": false,
          "outputs_hidden": false
        },
        "nteract": {
          "transient": {
            "deleting": false
          }
        },
        "gather": {
          "logged": 1676551918487
        }
      }
    },
    {
      "cell_type": "code",
      "source": [
        "from azure.ai.ml import Input, dsl\r\n",
        "from azure.ai.ml.constants import AssetTypes\r\n",
        "\r\n",
        "score_card_config_path = Input(\r\n",
        "    type=\"uri_file\", path=score_card_config_filename, mode=\"download\"\r\n",
        ")\r\n",
        "\r\n",
        "treatment_feature_names = json.dumps([\"bmi\", \"bp\", \"s2\"])\r\n",
        "desired_range = json.dumps([50, 120])\r\n",
        "\r\n",
        "\r\n",
        "@dsl.pipeline(\r\n",
        "    compute=compute_name,\r\n",
        "    description=\"Example RAI computation on diabetes decision making data\",\r\n",
        "    experiment_name=f\"RAI_Diabetes_Decision_Example_RAIInsights_Computation_{model_name}\",\r\n",
        ")\r\n",
        "def rai_decision_pipeline(\r\n",
        "    target_column_name, train_data, test_data, score_card_config_path\r\n",
        "):\r\n",
        "    # Initiate the RAIInsights\r\n",
        "    create_rai_job = rai_constructor_component(\r\n",
        "        title=\"RAI Dashboard Example\",\r\n",
        "        task_type=\"regression\",\r\n",
        "        model_info=expected_model_id,\r\n",
        "        model_input=Input(type=AssetTypes.MLFLOW_MODEL, path=azureml_model_id),\r\n",
        "        train_dataset=train_data,\r\n",
        "        test_dataset=test_data,\r\n",
        "        target_column_name=target_column_name,\r\n",
        "    )\r\n",
        "    create_rai_job.set_limits(timeout=120)\r\n",
        "\r\n",
        "    # Add causal analysis\r\n",
        "    causal_job = rai_causal_component(\r\n",
        "        rai_insights_dashboard=create_rai_job.outputs.rai_insights_dashboard,\r\n",
        "        treatment_features=treatment_feature_names,\r\n",
        "    )\r\n",
        "    causal_job.set_limits(timeout=120)\r\n",
        "\r\n",
        "    # Add counterfactual analysis\r\n",
        "    counterfactual_job = rai_counterfactual_component(\r\n",
        "        rai_insights_dashboard=create_rai_job.outputs.rai_insights_dashboard,\r\n",
        "        total_cfs=20,\r\n",
        "        desired_range=desired_range,\r\n",
        "    )\r\n",
        "    counterfactual_job.set_limits(timeout=600)\r\n",
        "\r\n",
        "    # Combine everything\r\n",
        "    rai_gather_job = rai_gather_component(\r\n",
        "        constructor=create_rai_job.outputs.rai_insights_dashboard,\r\n",
        "        insight_2=causal_job.outputs.causal,\r\n",
        "        insight_3=counterfactual_job.outputs.counterfactual,\r\n",
        "    )\r\n",
        "    rai_gather_job.set_limits(timeout=120)\r\n",
        "\r\n",
        "    rai_gather_job.outputs.dashboard.mode = \"upload\"\r\n",
        "    rai_gather_job.outputs.ux_json.mode = \"upload\"\r\n",
        "\r\n",
        "    # Generate score card in pdf format for a summary report on model performance,\r\n",
        "    # and observe distrbution of error between prediction vs ground truth.\r\n",
        "    rai_scorecard_job = rai_scorecard_component(\r\n",
        "        dashboard=rai_gather_job.outputs.dashboard,\r\n",
        "        pdf_generation_config=score_card_config_path,\r\n",
        "    )\r\n",
        "\r\n",
        "    return {\r\n",
        "        \"dashboard\": rai_gather_job.outputs.dashboard,\r\n",
        "        \"ux_json\": rai_gather_job.outputs.ux_json,\r\n",
        "        \"scorecard\": rai_scorecard_job.outputs.scorecard,\r\n",
        "    }"
      ],
      "outputs": [],
      "execution_count": 35,
      "metadata": {
        "jupyter": {
          "source_hidden": false,
          "outputs_hidden": false
        },
        "nteract": {
          "transient": {
            "deleting": false
          }
        },
        "gather": {
          "logged": 1676551971636
        }
      }
    },
    {
      "cell_type": "code",
      "source": [
        "from azure.ai.ml import Input\r\n",
        "target_feature = \"Diabetic\"\r\n",
        "\r\n",
        "diabetes_train_pq = Input(\r\n",
        "    type=\"mltable\",\r\n",
        "    path=f\"azureml:{input_train_data}:{rai_diabetes_decision_making_example_version_string}\",\r\n",
        "    mode=\"download\",\r\n",
        ")\r\n",
        "diabetes_test_pq = Input(\r\n",
        "    type=\"mltable\",\r\n",
        "    path=f\"azureml:{input_test_data}:{rai_diabetes_decision_making_example_version_string}\",\r\n",
        "    mode=\"download\",\r\n",
        ")"
      ],
      "outputs": [],
      "execution_count": null,
      "metadata": {
        "jupyter": {
          "source_hidden": false,
          "outputs_hidden": false
        },
        "nteract": {
          "transient": {
            "deleting": false
          }
        }
      }
    },
    {
      "cell_type": "code",
      "source": [
        "import uuid\r\n",
        "from azure.ai.ml import Output\r\n",
        "\r\n",
        "# Pipeline to construct the RAI Insights\r\n",
        "insights_pipeline_job = rai_decision_pipeline(\r\n",
        "    target_column_name=\"Diabetic\",\r\n",
        "    train_data=\"src/diabetes.parquet\",\r\n",
        "    test_data=\"\",\r\n",
        "    score_card_config_path=score_card_config_path,\r\n",
        ")\r\n",
        "\r\n",
        "# Workaround to enable the download\r\n",
        "rand_path = str(uuid.uuid4())\r\n",
        "insights_pipeline_job.outputs.dashboard = Output(\r\n",
        "    path=f\"azureml://datastores/workspaceblobstore/paths/{rand_path}/dashboard/\",\r\n",
        "    mode=\"upload\",\r\n",
        "    type=\"uri_folder\",\r\n",
        ")\r\n",
        "insights_pipeline_job.outputs.ux_json = Output(\r\n",
        "    path=f\"azureml://datastores/workspaceblobstore/paths/{rand_path}/ux_json/\",\r\n",
        "    mode=\"upload\",\r\n",
        "    type=\"uri_folder\",\r\n",
        ")\r\n",
        "insights_pipeline_job.outputs.scorecard = Output(\r\n",
        "    path=f\"azureml://datastores/workspaceblobstore/paths/{rand_path}/scorecard/\",\r\n",
        "    mode=\"upload\",\r\n",
        "    type=\"uri_folder\",\r\n",
        ")"
      ],
      "outputs": [
        {
          "output_type": "error",
          "ename": "NameError",
          "evalue": "name 'diabetes_train_pq' is not defined",
          "traceback": [
            "\u001b[0;31m---------------------------------------------------------------------------\u001b[0m",
            "\u001b[0;31mNameError\u001b[0m                                 Traceback (most recent call last)",
            "Input \u001b[0;32mIn [37]\u001b[0m, in \u001b[0;36m<cell line: 5>\u001b[0;34m()\u001b[0m\n\u001b[1;32m      2\u001b[0m \u001b[38;5;28;01mfrom\u001b[39;00m \u001b[38;5;21;01mazure\u001b[39;00m\u001b[38;5;21;01m.\u001b[39;00m\u001b[38;5;21;01mai\u001b[39;00m\u001b[38;5;21;01m.\u001b[39;00m\u001b[38;5;21;01mml\u001b[39;00m \u001b[38;5;28;01mimport\u001b[39;00m Output\n\u001b[1;32m      4\u001b[0m \u001b[38;5;66;03m# Pipeline to construct the RAI Insights\u001b[39;00m\n\u001b[1;32m      5\u001b[0m insights_pipeline_job \u001b[38;5;241m=\u001b[39m rai_decision_pipeline(\n\u001b[1;32m      6\u001b[0m     target_column_name\u001b[38;5;241m=\u001b[39m\u001b[38;5;124m\"\u001b[39m\u001b[38;5;124mDiabetic\u001b[39m\u001b[38;5;124m\"\u001b[39m,\n\u001b[0;32m----> 7\u001b[0m     train_data\u001b[38;5;241m=\u001b[39m\u001b[43mdiabetes_train_pq\u001b[49m,\n\u001b[1;32m      8\u001b[0m     test_data\u001b[38;5;241m=\u001b[39mdiabetes_test_pq,\n\u001b[1;32m      9\u001b[0m     score_card_config_path\u001b[38;5;241m=\u001b[39mscore_card_config_path,\n\u001b[1;32m     10\u001b[0m )\n\u001b[1;32m     12\u001b[0m \u001b[38;5;66;03m# Workaround to enable the download\u001b[39;00m\n\u001b[1;32m     13\u001b[0m rand_path \u001b[38;5;241m=\u001b[39m \u001b[38;5;28mstr\u001b[39m(uuid\u001b[38;5;241m.\u001b[39muuid4())\n",
            "\u001b[0;31mNameError\u001b[0m: name 'diabetes_train_pq' is not defined"
          ]
        }
      ],
      "execution_count": 37,
      "metadata": {
        "jupyter": {
          "source_hidden": false,
          "outputs_hidden": false
        },
        "nteract": {
          "transient": {
            "deleting": false
          }
        },
        "gather": {
          "logged": 1676938208358
        }
      }
    },
    {
      "cell_type": "code",
      "source": [],
      "outputs": [],
      "execution_count": null,
      "metadata": {
        "jupyter": {
          "source_hidden": false,
          "outputs_hidden": false
        },
        "nteract": {
          "transient": {
            "deleting": false
          }
        }
      }
    }
  ],
  "metadata": {
    "kernelspec": {
      "name": "python310-sdkv2",
      "language": "python",
      "display_name": "Python 3.10 - SDK v2"
    },
    "language_info": {
      "name": "python",
      "version": "3.10.9",
      "mimetype": "text/x-python",
      "codemirror_mode": {
        "name": "ipython",
        "version": 3
      },
      "pygments_lexer": "ipython3",
      "nbconvert_exporter": "python",
      "file_extension": ".py"
    },
    "microsoft": {
      "ms_spell_check": {
        "ms_spell_check_language": "en"
      },
      "host": {
        "AzureML": {
          "notebookHasBeenCompleted": true
        }
      }
    },
    "kernel_info": {
      "name": "python310-sdkv2"
    },
    "nteract": {
      "version": "nteract-front-end@1.0.0"
    }
  },
  "nbformat": 4,
  "nbformat_minor": 2
}